{
 "cells": [
  {
   "cell_type": "markdown",
   "id": "2d742413-a918-402e-9456-01431323d9c5",
   "metadata": {},
   "source": [
    "# **Test**"
   ]
  },
  {
   "cell_type": "markdown",
   "id": "be8ccf26-9f18-4f7a-95ba-e530a021872a",
   "metadata": {
    "tags": []
   },
   "source": [
    "#### **#13 - Patch**"
   ]
  },
  {
   "cell_type": "code",
   "execution_count": null,
   "id": "accdfeb3-2ca6-4996-aa43-4742f5290a92",
   "metadata": {
    "jupyter": {
     "source_hidden": true
    },
    "tags": []
   },
   "outputs": [],
   "source": [
    "# split predicting image into patches\n",
    "#import os\n",
    "\n",
    "from osgeo import gdal\n",
    "\n",
    "# set path\n",
    "in_path = pred_dir + 'Raw/MCC/AnhTuyen/'\n",
    "input_filename = 'BDA_MuCangChai_GeoLLWGS84_P1.tif'\n",
    "#---\n",
    "out_path = pred_dir + 'Patches/MCC/AnhTuyen/BDA_MuCangChai_GeoLLWGS84_P1/'\n",
    "\n",
    "if not os.path.exists(out_path):\n",
    "    os.mkdir(out_path)\n",
    "\n",
    "output_filename = 'MCC_P1_'\n",
    "\n",
    "# tile creation\n",
    "tile_size_x = 128\n",
    "tile_size_y = 128\n",
    "\n",
    "# read band for getting dimensions\n",
    "ds = gdal.Open(in_path + input_filename)\n",
    "band = ds.GetRasterBand(1)\n",
    "xsize = band.XSize\n",
    "ysize = band.YSize\n",
    "# iterate the image\n",
    "for i in range(0, xsize + 2*tile_size_x - xsize%tile_size_x, tile_size_x):\n",
    "    for j in range(0, ysize + 2*tile_size_y - ysize%tile_size_y, tile_size_y):\n",
    "        com_string = \"gdal_translate -of GTIFF -srcwin \" + str(i)+ \", \" + str(j) + \", \" + str(tile_size_x) + \", \" + str(tile_size_y) + \" \" + str(in_path) + str(input_filename) + \" \" + str(out_path) + str(output_filename) + str(i) + \"_\" + str(j) + \".tif\"\n",
    "        os.system(com_string)\n",
    "print('Separation done!')      "
   ]
  },
  {
   "cell_type": "code",
   "execution_count": null,
   "id": "32a94236-9f6b-4651-a00b-b231c4e4805f",
   "metadata": {
    "tags": []
   },
   "outputs": [],
   "source": [
    "# split predicting image into patches\n",
    "from utils import for_test\n",
    "from osgeo import gdal\n",
    "import glob\n",
    "\n",
    "# set path\n",
    "in_path = pred_dir + 'Raw/MCC/AnhTuyen/'\n",
    "input_filename = 'BDA_MuCangChai_GeoLLWGS84_P1.tif'\n",
    "#---\n",
    "out_path = pred_dir + 'Patches/MCC/AnhTuyen/BDA_MuCangChai_GeoLLWGS84_P1/'\n",
    "\n",
    "if not os.path.exists(out_path):\n",
    "    os.mkdir(out_path)\n",
    "\n",
    "output_filename = 'MCC_P1_'\n",
    "\n",
    "# patching\n",
    "for_test.patching(in_path, input_filename, patch_size=128)"
   ]
  },
  {
   "cell_type": "markdown",
   "id": "3354eb73-205f-4ea3-914c-207fba9fa6fb",
   "metadata": {},
   "source": [
    "#### **#14 - Normalize**"
   ]
  },
  {
   "cell_type": "code",
   "execution_count": null,
   "id": "7161cd0c-670d-4d4b-ab53-ed44003a68b2",
   "metadata": {},
   "outputs": [],
   "source": [
    "# call out predicting image\n",
    "img_pred_paths = glob.glob(pred_dir+'Patches/MCC/AnhTuyen/BDA_MuCangChai_GeoLLWGS84_P1/*.tif')\n",
    "\n",
    "stacked_img_norms, meta_out = for_test.normalize_patches(img_pred_paths)"
   ]
  },
  {
   "cell_type": "markdown",
   "id": "950d05bc-3ff6-40a7-b683-4e661e8f047b",
   "metadata": {},
   "source": [
    "#### **#15 - Predict**"
   ]
  },
  {
   "cell_type": "code",
   "execution_count": null,
   "id": "5401640a-5bee-4cca-ab09-a5cd11d9dcbf",
   "metadata": {
    "jupyter": {
     "source_hidden": true
    },
    "tags": []
   },
   "outputs": [],
   "source": [
    "# predict\n",
    "import tensorflow as tf # call out the trained model\n",
    "\n",
    "test_model = tf.keras.models.load_model('Output/Model/unet.h5') # load model\n",
    "\n",
    "# stack normalized patches\n",
    "stack_norms = np.stack(img_norms)\n",
    "# save stack\n",
    "np.save(pred_dir+'Test/Output/MCC/AnhTuyen/BDA_MuCangChai_GeoLLWGS84_P1/stack_for_pred.npy', stack_norms)\n",
    "\n",
    "# predict by test image\n",
    "any_pred = test_model.predict(stack_norms[:,:,:,0:3], batch_size=30)\n",
    "# save pure predictions\n",
    "np.save(pred_dir+ 'Test/Output/MCC/AnhTuyen/BDA_MuCangChai_GeoLLWGS84_P1/pure_pred.npy', any_pred)"
   ]
  },
  {
   "cell_type": "code",
   "execution_count": null,
   "id": "cdbe4fb6-6cde-4c36-8c0d-8ec7bdec085f",
   "metadata": {},
   "outputs": [],
   "source": [
    "# call out model\n",
    "import tensorflow as tf\n",
    "trained_model = tf.keras.models.load_model('Output/Model/unet.h5') # load model\n",
    "\n",
    "# save stack\n",
    "np.save(pred_dir+'Output/MCC/AnhTuyen/BDA_MuCangChai_GeoLLWGS84_P1/stack_for_pred.npy', stack_norms)\n",
    "\n",
    "# predict by test image\n",
    "predictset, predict_results = model._predict_(trained_model, stack_norms[:,:,:,0:3], batch_size=30)\n",
    "# save pure predictions\n",
    "np.save(pred_dir+ 'Output/MCC/AnhTuyen/BDA_MuCangChai_GeoLLWGS84_P1/pure_pred.npy', predict_results)"
   ]
  },
  {
   "cell_type": "raw",
   "id": "7a1eb40c-854a-41bb-befc-fdadcac581c0",
   "metadata": {},
   "source": [
    "# save the predicted results\n",
    "for i in range(len(any_pred)):\n",
    "    name = img_pred_paths[i].split('Patches')[0]+'Output/'+img_pred_paths[i].split('Patches')[-1].split('\\\\')[0]+img_pred_paths[i].split('\\\\')[-1]\n",
    "    with rio.open(name, \"w\", **meta_out[i]) as dest:\n",
    "        # reclassify the predicted result\n",
    "        any_pred[i][np.where((any_pred[i]*1000).round() >= 1)] = 1\n",
    "        any_pred[i][np.where((any_pred[i]*1000).round() < 1)] = 0\n",
    "        dest.write(any_pred[i][:,:,1], indexes=1)\n",
    "    dest.close()\n"
   ]
  },
  {
   "cell_type": "markdown",
   "id": "5af86bdf-b661-42c7-b012-91414951f4ad",
   "metadata": {},
   "source": [
    "#### **#16 - Save predicting results**"
   ]
  },
  {
   "cell_type": "code",
   "execution_count": null,
   "id": "12598caa-4e18-4138-b6e6-943476d02659",
   "metadata": {
    "jupyter": {
     "source_hidden": true
    },
    "tags": []
   },
   "outputs": [],
   "source": [
    "# save the predicted results\n",
    "for i in range(len(predict_results)):\n",
    "    name = img_pred_paths[i].split('Patches')[0]+'Output/'+img_pred_paths[i].split('Patches')[-1].split('\\\\')[0]+'/'+img_pred_paths[i].split('\\\\')[-1]\n",
    "    with rio.open(name, \"w\", **meta_out[i]) as dest:\n",
    "        # reclassify the predicted result\n",
    "        result = np.argmax(predict_results[i])\n",
    "        dest.write(result[:,:,1], indexes=1)\n",
    "    dest.close()\n"
   ]
  },
  {
   "cell_type": "code",
   "execution_count": null,
   "id": "6c8ef926-7eb2-4a3e-9050-d94fb7a0e82b",
   "metadata": {},
   "outputs": [],
   "source": [
    "for_test.save_prediction(predict_results, img_pred_paths)"
   ]
  },
  {
   "cell_type": "markdown",
   "id": "c8a545df-047f-4c3e-8b68-0f4ad2a94bf0",
   "metadata": {},
   "source": [
    "#### **#17 - Merge predicting patches**"
   ]
  },
  {
   "cell_type": "code",
   "execution_count": null,
   "id": "9983aa9c-d94f-4e76-9e29-31dcb5e34c20",
   "metadata": {
    "jupyter": {
     "source_hidden": true
    },
    "tags": []
   },
   "outputs": [],
   "source": [
    "# merge predicted results\n",
    "import glob\n",
    "from rasterio.merge import merge\n",
    "\n",
    "pre_re_paths = glob.glob(pred_dir+'Test/Output/MCC/AnhTuyen/BDA_MuCangChai_GeoLLWGS84_P3/*.tif') # find the predicted results' locations\n",
    "\n",
    "src_files_to_mosaic = [] # list for opening rasters\n",
    "\n",
    "# open rasters\n",
    "for src in pre_re_paths:\n",
    "    img = rio.open(src)\n",
    "    src_files_to_mosaic.append(img)\n",
    "    \n",
    "# copy the metadata\n",
    "out_meta = img.meta.copy()\n",
    "\n",
    "mosaic, out_trans = merge(src_files_to_mosaic) # merge predicted results\n",
    "\n",
    "# write the mosaic raster to disk\n",
    "# update the metadata\n",
    "out_meta.update({\"driver\": \"GTiff\",\n",
    "                 \"height\": mosaic.shape[1],\n",
    "                 \"width\": mosaic.shape[2],\n",
    "                 \"transform\": out_trans,\n",
    "                 \"crs\": img.crs,\n",
    "                 \"dtype\": rio.uint8,\n",
    "                 \"nodata\": 0\n",
    "                 }\n",
    "                )\n",
    "\n",
    "with rio.open(pred_dir+'Test/Output/MCC/AnhTuyen/Mosaic/pred_BDA_MuCangChai_GeoLLWGS84_P3.tif', \"w\", **out_meta) as dest:\n",
    "    dest.write(mosaic)\n",
    "    \n",
    "dest.close()"
   ]
  },
  {
   "cell_type": "code",
   "execution_count": null,
   "id": "64796615-f9d6-4385-9a67-1fdf4d8dfc01",
   "metadata": {},
   "outputs": [],
   "source": [
    "# mosaicking\n",
    "pre_re_paths = glob.glob(pred_dir+'Output/MCC/AnhTuyen/BDA_MuCangChai_GeoLLWGS84_P1/*.tif') # find the predicted results' locations\n",
    "\n",
    "# mosaic\n",
    "for_test.mosaicking_pred(pre_re_paths, meta_out)"
   ]
  }
 ],
 "metadata": {
  "kernelspec": {
   "display_name": "Python 3 (ipykernel)",
   "language": "python",
   "name": "python3"
  },
  "language_info": {
   "codemirror_mode": {
    "name": "ipython",
    "version": 3
   },
   "file_extension": ".py",
   "mimetype": "text/x-python",
   "name": "python",
   "nbconvert_exporter": "python",
   "pygments_lexer": "ipython3",
   "version": "3.9.15"
  }
 },
 "nbformat": 4,
 "nbformat_minor": 5
}
