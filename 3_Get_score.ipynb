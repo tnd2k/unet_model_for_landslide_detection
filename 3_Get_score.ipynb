{
 "cells": [
  {
   "cell_type": "markdown",
   "id": "ffd9cba0-6e5d-4566-9024-961da5b5aa74",
   "metadata": {
    "tags": []
   },
   "source": [
    "### **#10 - Get prediction score**"
   ]
  },
  {
   "cell_type": "code",
   "execution_count": null,
   "id": "5f17a829-0b17-4265-a25a-818c9f10793c",
   "metadata": {},
   "outputs": [],
   "source": [
    "import os\n",
    "import numpy as np\n",
    "from utils import *\n",
    "import tensorflow as tf"
   ]
  },
  {
   "cell_type": "raw",
   "id": "33881d4c-51a7-4d7a-80df-4ba23a8a9c3a",
   "metadata": {},
   "source": [
    "# fetch label data\n",
    "labels = np.load('Input/label_patch128.npy')\n",
    "# fetch image data\n",
    "images = np.load('Input/image_patch128.npy')\n",
    "# split train-test\n",
    "train_image, train_label, test_image, test_label = model_fetch.train_test_split(images, labels, train_size=0.6, test_size=0.4, nclass=2)"
   ]
  },
  {
   "cell_type": "raw",
   "id": "d02ad6d3-74ec-49b0-82b2-6e57ed77cdd1",
   "metadata": {},
   "source": [
    "# save this \n",
    "if not os.path.exists('Score/'):\n",
    "    try:\n",
    "        path = 'Score/'\n",
    "        os.mkdir(path)\n",
    "    except:\n",
    "        pass\n",
    "np.save('Score/test_label128.npy', test_label)\n",
    "np.save('Score/test_image128.npy', test_image)"
   ]
  },
  {
   "cell_type": "code",
   "execution_count": null,
   "id": "90d12d22-9ba9-4e26-954e-edf0b5ab08d0",
   "metadata": {},
   "outputs": [],
   "source": [
    "# load model\n",
    "pretrained_model = tf.keras.models.load_model('Output/Model/unet.h5')\n",
    "pretrained_model.load_weights('Output/Model/Checkpoints/model_weights.h5')\n",
    "pretrained_model.summary()"
   ]
  },
  {
   "cell_type": "code",
   "execution_count": null,
   "id": "0ad37183-6043-4d16-a50d-fe4a3ec63ffd",
   "metadata": {},
   "outputs": [],
   "source": [
    "# predict the test_image and evaluate the test_label\n",
    "predictions = model_fetch._predict_(model=pretrained_model, predict_set='Score/test_image128.npy', batch_size=30, save_predict='Output/try.npy')"
   ]
  },
  {
   "cell_type": "code",
   "execution_count": null,
   "id": "cd37698e-3c15-49d8-a78f-7c3abab2923b",
   "metadata": {},
   "outputs": [],
   "source": [
    "# get score\n",
    "confusion_matrix, precision, f1_score, accuracy = model_fetch.get_evaluation_scores(predicts='Output/try.npy',\n",
    "                                                                                    test_labels='Score/test_label128.npy',\n",
    "                                                                                    save_cm='Score/cm.npy',\n",
    "                                                                                    save_report='Score/score_report.txt')"
   ]
  }
 ],
 "metadata": {
  "kernelspec": {
   "display_name": "Python 3 (ipykernel)",
   "language": "python",
   "name": "python3"
  },
  "language_info": {
   "codemirror_mode": {
    "name": "ipython",
    "version": 3
   },
   "file_extension": ".py",
   "mimetype": "text/x-python",
   "name": "python",
   "nbconvert_exporter": "python",
   "pygments_lexer": "ipython3",
   "version": "3.9.15"
  }
 },
 "nbformat": 4,
 "nbformat_minor": 5
}
